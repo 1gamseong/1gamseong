{
 "cells": [
  {
   "cell_type": "code",
   "execution_count": 1,
   "id": "f88336ed",
   "metadata": {},
   "outputs": [
    {
     "data": {
      "text/plain": [
       "1"
      ]
     },
     "execution_count": 1,
     "metadata": {},
     "output_type": "execute_result"
    }
   ],
   "source": [
    "a=1\n",
    "a"
   ]
  },
  {
   "cell_type": "markdown",
   "id": "7c829cbe",
   "metadata": {},
   "source": [
    "> # 데이터 전처리과정 복습과정"
   ]
  },
  {
   "cell_type": "code",
   "execution_count": 2,
   "id": "1cc93098",
   "metadata": {},
   "outputs": [],
   "source": [
    "import pandas as pd"
   ]
  },
  {
   "cell_type": "markdown",
   "id": "de1416ab",
   "metadata": {},
   "source": [
    "> ### 날씨정보 불러오기"
   ]
  },
  {
   "cell_type": "code",
   "execution_count": 3,
   "id": "23964842",
   "metadata": {},
   "outputs": [
    {
     "data": {
      "text/html": [
       "<div>\n",
       "<style scoped>\n",
       "    .dataframe tbody tr th:only-of-type {\n",
       "        vertical-align: middle;\n",
       "    }\n",
       "\n",
       "    .dataframe tbody tr th {\n",
       "        vertical-align: top;\n",
       "    }\n",
       "\n",
       "    .dataframe thead th {\n",
       "        text-align: right;\n",
       "    }\n",
       "</style>\n",
       "<table border=\"1\" class=\"dataframe\">\n",
       "  <thead>\n",
       "    <tr style=\"text-align: right;\">\n",
       "      <th></th>\n",
       "      <th>기준_날짜</th>\n",
       "      <th>기준_시</th>\n",
       "      <th>기온(℃)</th>\n",
       "      <th>강수량(mm)</th>\n",
       "      <th>풍속(m/s)</th>\n",
       "      <th>습도(%)</th>\n",
       "    </tr>\n",
       "  </thead>\n",
       "  <tbody>\n",
       "    <tr>\n",
       "      <th>0</th>\n",
       "      <td>2023-01-01</td>\n",
       "      <td>0</td>\n",
       "      <td>0.9</td>\n",
       "      <td>NaN</td>\n",
       "      <td>1.4</td>\n",
       "      <td>72</td>\n",
       "    </tr>\n",
       "    <tr>\n",
       "      <th>1</th>\n",
       "      <td>2023-01-01</td>\n",
       "      <td>1</td>\n",
       "      <td>1.5</td>\n",
       "      <td>NaN</td>\n",
       "      <td>1.9</td>\n",
       "      <td>71</td>\n",
       "    </tr>\n",
       "    <tr>\n",
       "      <th>2</th>\n",
       "      <td>2023-01-01</td>\n",
       "      <td>2</td>\n",
       "      <td>1.5</td>\n",
       "      <td>NaN</td>\n",
       "      <td>1.9</td>\n",
       "      <td>72</td>\n",
       "    </tr>\n",
       "    <tr>\n",
       "      <th>3</th>\n",
       "      <td>2023-01-01</td>\n",
       "      <td>3</td>\n",
       "      <td>1.6</td>\n",
       "      <td>NaN</td>\n",
       "      <td>1.6</td>\n",
       "      <td>74</td>\n",
       "    </tr>\n",
       "    <tr>\n",
       "      <th>4</th>\n",
       "      <td>2023-01-01</td>\n",
       "      <td>4</td>\n",
       "      <td>1.5</td>\n",
       "      <td>NaN</td>\n",
       "      <td>1.4</td>\n",
       "      <td>74</td>\n",
       "    </tr>\n",
       "  </tbody>\n",
       "</table>\n",
       "</div>"
      ],
      "text/plain": [
       "        기준_날짜  기준_시  기온(℃)  강수량(mm)  풍속(m/s)  습도(%)\n",
       "0  2023-01-01     0    0.9      NaN      1.4     72\n",
       "1  2023-01-01     1    1.5      NaN      1.9     71\n",
       "2  2023-01-01     2    1.5      NaN      1.9     72\n",
       "3  2023-01-01     3    1.6      NaN      1.6     74\n",
       "4  2023-01-01     4    1.5      NaN      1.4     74"
      ]
     },
     "execution_count": 3,
     "metadata": {},
     "output_type": "execute_result"
    }
   ],
   "source": [
    "weather = pd.read_csv('../Data/merged_weather.csv',encoding='utf-8')\n",
    "weather.head()"
   ]
  },
  {
   "cell_type": "markdown",
   "id": "6b951be1",
   "metadata": {},
   "source": [
    "> ### 데이터체크 , 난값체크,갯수체크\n"
   ]
  },
  {
   "cell_type": "code",
   "execution_count": 4,
   "id": "5dd82ae8",
   "metadata": {},
   "outputs": [
    {
     "data": {
      "text/html": [
       "<div>\n",
       "<style scoped>\n",
       "    .dataframe tbody tr th:only-of-type {\n",
       "        vertical-align: middle;\n",
       "    }\n",
       "\n",
       "    .dataframe tbody tr th {\n",
       "        vertical-align: top;\n",
       "    }\n",
       "\n",
       "    .dataframe thead th {\n",
       "        text-align: right;\n",
       "    }\n",
       "</style>\n",
       "<table border=\"1\" class=\"dataframe\">\n",
       "  <thead>\n",
       "    <tr style=\"text-align: right;\">\n",
       "      <th></th>\n",
       "      <th>기준_날짜</th>\n",
       "      <th>기준_시</th>\n",
       "      <th>기온(℃)</th>\n",
       "      <th>강수량(mm)</th>\n",
       "      <th>풍속(m/s)</th>\n",
       "      <th>습도(%)</th>\n",
       "    </tr>\n",
       "  </thead>\n",
       "  <tbody>\n",
       "    <tr>\n",
       "      <th>0</th>\n",
       "      <td>2023-01-01</td>\n",
       "      <td>0</td>\n",
       "      <td>0.9</td>\n",
       "      <td>NaN</td>\n",
       "      <td>1.4</td>\n",
       "      <td>72</td>\n",
       "    </tr>\n",
       "    <tr>\n",
       "      <th>1</th>\n",
       "      <td>2023-01-01</td>\n",
       "      <td>1</td>\n",
       "      <td>1.5</td>\n",
       "      <td>NaN</td>\n",
       "      <td>1.9</td>\n",
       "      <td>71</td>\n",
       "    </tr>\n",
       "    <tr>\n",
       "      <th>2</th>\n",
       "      <td>2023-01-01</td>\n",
       "      <td>2</td>\n",
       "      <td>1.5</td>\n",
       "      <td>NaN</td>\n",
       "      <td>1.9</td>\n",
       "      <td>72</td>\n",
       "    </tr>\n",
       "    <tr>\n",
       "      <th>3</th>\n",
       "      <td>2023-01-01</td>\n",
       "      <td>3</td>\n",
       "      <td>1.6</td>\n",
       "      <td>NaN</td>\n",
       "      <td>1.6</td>\n",
       "      <td>74</td>\n",
       "    </tr>\n",
       "    <tr>\n",
       "      <th>4</th>\n",
       "      <td>2023-01-01</td>\n",
       "      <td>4</td>\n",
       "      <td>1.5</td>\n",
       "      <td>NaN</td>\n",
       "      <td>1.4</td>\n",
       "      <td>74</td>\n",
       "    </tr>\n",
       "  </tbody>\n",
       "</table>\n",
       "</div>"
      ],
      "text/plain": [
       "        기준_날짜  기준_시  기온(℃)  강수량(mm)  풍속(m/s)  습도(%)\n",
       "0  2023-01-01     0    0.9      NaN      1.4     72\n",
       "1  2023-01-01     1    1.5      NaN      1.9     71\n",
       "2  2023-01-01     2    1.5      NaN      1.9     72\n",
       "3  2023-01-01     3    1.6      NaN      1.6     74\n",
       "4  2023-01-01     4    1.5      NaN      1.4     74"
      ]
     },
     "execution_count": 4,
     "metadata": {},
     "output_type": "execute_result"
    }
   ],
   "source": [
    "weather.head()"
   ]
  },
  {
   "cell_type": "code",
   "execution_count": 5,
   "id": "3fe62892",
   "metadata": {},
   "outputs": [
    {
     "data": {
      "text/html": [
       "<div>\n",
       "<style scoped>\n",
       "    .dataframe tbody tr th:only-of-type {\n",
       "        vertical-align: middle;\n",
       "    }\n",
       "\n",
       "    .dataframe tbody tr th {\n",
       "        vertical-align: top;\n",
       "    }\n",
       "\n",
       "    .dataframe thead th {\n",
       "        text-align: right;\n",
       "    }\n",
       "</style>\n",
       "<table border=\"1\" class=\"dataframe\">\n",
       "  <thead>\n",
       "    <tr style=\"text-align: right;\">\n",
       "      <th></th>\n",
       "      <th>기준_날짜</th>\n",
       "      <th>기준_시</th>\n",
       "      <th>기온(℃)</th>\n",
       "      <th>강수량(mm)</th>\n",
       "      <th>풍속(m/s)</th>\n",
       "      <th>습도(%)</th>\n",
       "    </tr>\n",
       "  </thead>\n",
       "  <tbody>\n",
       "    <tr>\n",
       "      <th>22531</th>\n",
       "      <td>2025-07-27</td>\n",
       "      <td>19</td>\n",
       "      <td>35.3</td>\n",
       "      <td>NaN</td>\n",
       "      <td>2.5</td>\n",
       "      <td>56</td>\n",
       "    </tr>\n",
       "    <tr>\n",
       "      <th>22532</th>\n",
       "      <td>2025-07-27</td>\n",
       "      <td>20</td>\n",
       "      <td>33.8</td>\n",
       "      <td>NaN</td>\n",
       "      <td>2.0</td>\n",
       "      <td>61</td>\n",
       "    </tr>\n",
       "    <tr>\n",
       "      <th>22533</th>\n",
       "      <td>2025-07-27</td>\n",
       "      <td>21</td>\n",
       "      <td>32.7</td>\n",
       "      <td>NaN</td>\n",
       "      <td>1.4</td>\n",
       "      <td>69</td>\n",
       "    </tr>\n",
       "    <tr>\n",
       "      <th>22534</th>\n",
       "      <td>2025-07-27</td>\n",
       "      <td>22</td>\n",
       "      <td>32.2</td>\n",
       "      <td>NaN</td>\n",
       "      <td>1.1</td>\n",
       "      <td>71</td>\n",
       "    </tr>\n",
       "    <tr>\n",
       "      <th>22535</th>\n",
       "      <td>2025-07-27</td>\n",
       "      <td>23</td>\n",
       "      <td>31.7</td>\n",
       "      <td>NaN</td>\n",
       "      <td>2.3</td>\n",
       "      <td>74</td>\n",
       "    </tr>\n",
       "  </tbody>\n",
       "</table>\n",
       "</div>"
      ],
      "text/plain": [
       "            기준_날짜  기준_시  기온(℃)  강수량(mm)  풍속(m/s)  습도(%)\n",
       "22531  2025-07-27    19   35.3      NaN      2.5     56\n",
       "22532  2025-07-27    20   33.8      NaN      2.0     61\n",
       "22533  2025-07-27    21   32.7      NaN      1.4     69\n",
       "22534  2025-07-27    22   32.2      NaN      1.1     71\n",
       "22535  2025-07-27    23   31.7      NaN      2.3     74"
      ]
     },
     "execution_count": 5,
     "metadata": {},
     "output_type": "execute_result"
    }
   ],
   "source": [
    "weather.tail()"
   ]
  },
  {
   "cell_type": "code",
   "execution_count": 6,
   "id": "fe24658c",
   "metadata": {},
   "outputs": [
    {
     "data": {
      "text/plain": [
       "(22536, 6)"
      ]
     },
     "execution_count": 6,
     "metadata": {},
     "output_type": "execute_result"
    }
   ],
   "source": [
    "weather.shape"
   ]
  },
  {
   "cell_type": "code",
   "execution_count": 7,
   "id": "84ebe3ca",
   "metadata": {},
   "outputs": [
    {
     "data": {
      "text/plain": [
       "기준_날짜          0\n",
       "기준_시           0\n",
       "기온(℃)          0\n",
       "강수량(mm)    19882\n",
       "풍속(m/s)       68\n",
       "습도(%)          0\n",
       "dtype: int64"
      ]
     },
     "execution_count": 7,
     "metadata": {},
     "output_type": "execute_result"
    }
   ],
   "source": [
    "weather.isna().sum()"
   ]
  },
  {
   "cell_type": "markdown",
   "id": "18304cdd",
   "metadata": {},
   "source": [
    "> ### 난값채우기"
   ]
  },
  {
   "cell_type": "markdown",
   "id": "b0900878",
   "metadata": {},
   "source": []
  },
  {
   "cell_type": "code",
   "execution_count": 8,
   "id": "aefdc5c8",
   "metadata": {},
   "outputs": [
    {
     "data": {
      "text/html": [
       "<div>\n",
       "<style scoped>\n",
       "    .dataframe tbody tr th:only-of-type {\n",
       "        vertical-align: middle;\n",
       "    }\n",
       "\n",
       "    .dataframe tbody tr th {\n",
       "        vertical-align: top;\n",
       "    }\n",
       "\n",
       "    .dataframe thead th {\n",
       "        text-align: right;\n",
       "    }\n",
       "</style>\n",
       "<table border=\"1\" class=\"dataframe\">\n",
       "  <thead>\n",
       "    <tr style=\"text-align: right;\">\n",
       "      <th></th>\n",
       "      <th>기준_날짜</th>\n",
       "      <th>기준_시</th>\n",
       "      <th>기온(℃)</th>\n",
       "      <th>강수량(mm)</th>\n",
       "      <th>풍속(m/s)</th>\n",
       "      <th>습도(%)</th>\n",
       "    </tr>\n",
       "  </thead>\n",
       "  <tbody>\n",
       "    <tr>\n",
       "      <th>8233</th>\n",
       "      <td>2023-12-10</td>\n",
       "      <td>1</td>\n",
       "      <td>11.6</td>\n",
       "      <td>NaN</td>\n",
       "      <td>NaN</td>\n",
       "      <td>87</td>\n",
       "    </tr>\n",
       "    <tr>\n",
       "      <th>8234</th>\n",
       "      <td>2023-12-10</td>\n",
       "      <td>2</td>\n",
       "      <td>11.4</td>\n",
       "      <td>NaN</td>\n",
       "      <td>NaN</td>\n",
       "      <td>86</td>\n",
       "    </tr>\n",
       "    <tr>\n",
       "      <th>8235</th>\n",
       "      <td>2023-12-10</td>\n",
       "      <td>3</td>\n",
       "      <td>10.8</td>\n",
       "      <td>NaN</td>\n",
       "      <td>NaN</td>\n",
       "      <td>82</td>\n",
       "    </tr>\n",
       "    <tr>\n",
       "      <th>8236</th>\n",
       "      <td>2023-12-10</td>\n",
       "      <td>4</td>\n",
       "      <td>9.9</td>\n",
       "      <td>NaN</td>\n",
       "      <td>NaN</td>\n",
       "      <td>83</td>\n",
       "    </tr>\n",
       "    <tr>\n",
       "      <th>8237</th>\n",
       "      <td>2023-12-10</td>\n",
       "      <td>5</td>\n",
       "      <td>8.9</td>\n",
       "      <td>NaN</td>\n",
       "      <td>NaN</td>\n",
       "      <td>87</td>\n",
       "    </tr>\n",
       "  </tbody>\n",
       "</table>\n",
       "</div>"
      ],
      "text/plain": [
       "           기준_날짜  기준_시  기온(℃)  강수량(mm)  풍속(m/s)  습도(%)\n",
       "8233  2023-12-10     1   11.6      NaN      NaN     87\n",
       "8234  2023-12-10     2   11.4      NaN      NaN     86\n",
       "8235  2023-12-10     3   10.8      NaN      NaN     82\n",
       "8236  2023-12-10     4    9.9      NaN      NaN     83\n",
       "8237  2023-12-10     5    8.9      NaN      NaN     87"
      ]
     },
     "execution_count": 8,
     "metadata": {},
     "output_type": "execute_result"
    }
   ],
   "source": [
    "# NaN 값이 있는 행만 필터링\n",
    "nan_rows = weather[weather['풍속(m/s)'].isna()]\n",
    "nan_rows.head()\n"
   ]
  },
  {
   "cell_type": "markdown",
   "id": "907e2b21",
   "metadata": {},
   "source": [
    "> 풍속을 따로 난처리하지않는이유는 누락된데이터가 양옆에 해당날기준으로 너무많다.\n",
    "강수량같은경우도 마찬가지로 난값이너무많아 따로 정리하기가어렵다."
   ]
  },
  {
   "cell_type": "code",
   "execution_count": 9,
   "id": "af470fe4",
   "metadata": {},
   "outputs": [],
   "source": [
    "weather['강수량(mm)'] = weather['강수량(mm)'].fillna(0)\n",
    "weather['풍속(m/s)'] = weather['풍속(m/s)'].fillna(0)"
   ]
  },
  {
   "cell_type": "code",
   "execution_count": 10,
   "id": "e511bbb5",
   "metadata": {},
   "outputs": [
    {
     "data": {
      "text/plain": [
       "기준_날짜      0\n",
       "기준_시       0\n",
       "기온(℃)      0\n",
       "강수량(mm)    0\n",
       "풍속(m/s)    0\n",
       "습도(%)      0\n",
       "dtype: int64"
      ]
     },
     "execution_count": 10,
     "metadata": {},
     "output_type": "execute_result"
    }
   ],
   "source": [
    "weather.isna().sum()"
   ]
  },
  {
   "cell_type": "code",
   "execution_count": 11,
   "id": "bd647620",
   "metadata": {},
   "outputs": [
    {
     "data": {
      "text/html": [
       "<div>\n",
       "<style scoped>\n",
       "    .dataframe tbody tr th:only-of-type {\n",
       "        vertical-align: middle;\n",
       "    }\n",
       "\n",
       "    .dataframe tbody tr th {\n",
       "        vertical-align: top;\n",
       "    }\n",
       "\n",
       "    .dataframe thead th {\n",
       "        text-align: right;\n",
       "    }\n",
       "</style>\n",
       "<table border=\"1\" class=\"dataframe\">\n",
       "  <thead>\n",
       "    <tr style=\"text-align: right;\">\n",
       "      <th></th>\n",
       "      <th>기준_날짜</th>\n",
       "      <th>기준_시</th>\n",
       "      <th>기온(℃)</th>\n",
       "      <th>강수량(mm)</th>\n",
       "      <th>풍속(m/s)</th>\n",
       "      <th>습도(%)</th>\n",
       "    </tr>\n",
       "  </thead>\n",
       "  <tbody>\n",
       "    <tr>\n",
       "      <th>0</th>\n",
       "      <td>2023-01-01</td>\n",
       "      <td>0</td>\n",
       "      <td>0.9</td>\n",
       "      <td>0.0</td>\n",
       "      <td>1.4</td>\n",
       "      <td>72</td>\n",
       "    </tr>\n",
       "    <tr>\n",
       "      <th>1</th>\n",
       "      <td>2023-01-01</td>\n",
       "      <td>1</td>\n",
       "      <td>1.5</td>\n",
       "      <td>0.0</td>\n",
       "      <td>1.9</td>\n",
       "      <td>71</td>\n",
       "    </tr>\n",
       "    <tr>\n",
       "      <th>2</th>\n",
       "      <td>2023-01-01</td>\n",
       "      <td>2</td>\n",
       "      <td>1.5</td>\n",
       "      <td>0.0</td>\n",
       "      <td>1.9</td>\n",
       "      <td>72</td>\n",
       "    </tr>\n",
       "    <tr>\n",
       "      <th>3</th>\n",
       "      <td>2023-01-01</td>\n",
       "      <td>3</td>\n",
       "      <td>1.6</td>\n",
       "      <td>0.0</td>\n",
       "      <td>1.6</td>\n",
       "      <td>74</td>\n",
       "    </tr>\n",
       "    <tr>\n",
       "      <th>4</th>\n",
       "      <td>2023-01-01</td>\n",
       "      <td>4</td>\n",
       "      <td>1.5</td>\n",
       "      <td>0.0</td>\n",
       "      <td>1.4</td>\n",
       "      <td>74</td>\n",
       "    </tr>\n",
       "  </tbody>\n",
       "</table>\n",
       "</div>"
      ],
      "text/plain": [
       "        기준_날짜  기준_시  기온(℃)  강수량(mm)  풍속(m/s)  습도(%)\n",
       "0  2023-01-01     0    0.9      0.0      1.4     72\n",
       "1  2023-01-01     1    1.5      0.0      1.9     71\n",
       "2  2023-01-01     2    1.5      0.0      1.9     72\n",
       "3  2023-01-01     3    1.6      0.0      1.6     74\n",
       "4  2023-01-01     4    1.5      0.0      1.4     74"
      ]
     },
     "execution_count": 11,
     "metadata": {},
     "output_type": "execute_result"
    }
   ],
   "source": [
    "weather.head()"
   ]
  },
  {
   "cell_type": "code",
   "execution_count": 12,
   "id": "558072a9",
   "metadata": {},
   "outputs": [],
   "source": [
    "# // ---------------------------------------------------------------------------//\n",
    "# 저장할떄는 원래잇던 인덱스 + 인덱스가 새로 생성되므로 , 인덱스를 False로 바꿔 두번반복되는걸 방지.\n",
    "# encoding utf-8-sig unicode transfomation signiture / BOM byte order mate\n",
    "# // ---------------------------------------------------------------------------//\n",
    "weather.to_csv('../Data/weather.csv',index=False,encoding='utf-8-sig')"
   ]
  },
  {
   "cell_type": "markdown",
   "id": "5954a346",
   "metadata": {},
   "source": [
    "> 난값을 0으로채우고 다시저장"
   ]
  },
  {
   "cell_type": "markdown",
   "id": "395997c6",
   "metadata": {},
   "source": [
    "> "
   ]
  },
  {
   "cell_type": "code",
   "execution_count": 13,
   "id": "e99c5c8d",
   "metadata": {},
   "outputs": [
    {
     "data": {
      "text/html": [
       "<div>\n",
       "<style scoped>\n",
       "    .dataframe tbody tr th:only-of-type {\n",
       "        vertical-align: middle;\n",
       "    }\n",
       "\n",
       "    .dataframe tbody tr th {\n",
       "        vertical-align: top;\n",
       "    }\n",
       "\n",
       "    .dataframe thead th {\n",
       "        text-align: right;\n",
       "    }\n",
       "</style>\n",
       "<table border=\"1\" class=\"dataframe\">\n",
       "  <thead>\n",
       "    <tr style=\"text-align: right;\">\n",
       "      <th></th>\n",
       "      <th>기준_날짜</th>\n",
       "      <th>기준_시</th>\n",
       "      <th>기온(℃)</th>\n",
       "      <th>강수량(mm)</th>\n",
       "      <th>풍속(m/s)</th>\n",
       "      <th>습도(%)</th>\n",
       "    </tr>\n",
       "  </thead>\n",
       "  <tbody>\n",
       "    <tr>\n",
       "      <th>0</th>\n",
       "      <td>2023-01-01</td>\n",
       "      <td>0</td>\n",
       "      <td>0.9</td>\n",
       "      <td>0.0</td>\n",
       "      <td>1.4</td>\n",
       "      <td>72</td>\n",
       "    </tr>\n",
       "    <tr>\n",
       "      <th>1</th>\n",
       "      <td>2023-01-01</td>\n",
       "      <td>1</td>\n",
       "      <td>1.5</td>\n",
       "      <td>0.0</td>\n",
       "      <td>1.9</td>\n",
       "      <td>71</td>\n",
       "    </tr>\n",
       "    <tr>\n",
       "      <th>2</th>\n",
       "      <td>2023-01-01</td>\n",
       "      <td>2</td>\n",
       "      <td>1.5</td>\n",
       "      <td>0.0</td>\n",
       "      <td>1.9</td>\n",
       "      <td>72</td>\n",
       "    </tr>\n",
       "    <tr>\n",
       "      <th>3</th>\n",
       "      <td>2023-01-01</td>\n",
       "      <td>3</td>\n",
       "      <td>1.6</td>\n",
       "      <td>0.0</td>\n",
       "      <td>1.6</td>\n",
       "      <td>74</td>\n",
       "    </tr>\n",
       "    <tr>\n",
       "      <th>4</th>\n",
       "      <td>2023-01-01</td>\n",
       "      <td>4</td>\n",
       "      <td>1.5</td>\n",
       "      <td>0.0</td>\n",
       "      <td>1.4</td>\n",
       "      <td>74</td>\n",
       "    </tr>\n",
       "  </tbody>\n",
       "</table>\n",
       "</div>"
      ],
      "text/plain": [
       "        기준_날짜  기준_시  기온(℃)  강수량(mm)  풍속(m/s)  습도(%)\n",
       "0  2023-01-01     0    0.9      0.0      1.4     72\n",
       "1  2023-01-01     1    1.5      0.0      1.9     71\n",
       "2  2023-01-01     2    1.5      0.0      1.9     72\n",
       "3  2023-01-01     3    1.6      0.0      1.6     74\n",
       "4  2023-01-01     4    1.5      0.0      1.4     74"
      ]
     },
     "execution_count": 13,
     "metadata": {},
     "output_type": "execute_result"
    }
   ],
   "source": [
    "# 원래는 가져올떄 cp949 , euc_kr 등 쓰지만 내가저장한것이기떄문에 생략\n",
    "weather = pd.read_csv('../Data/weather.csv')\n",
    "weather.head()"
   ]
  },
  {
   "cell_type": "markdown",
   "id": "364f91b7",
   "metadata": {},
   "source": [
    "> 이번프로젝트에서 썻던 불쾌지수코드    \n",
    "불쾌지수 = 1.8 x 기온 - 0.55 x (1 - 습도) x (1.8 x 기온 - 26) + 32"
   ]
  },
  {
   "cell_type": "code",
   "execution_count": 14,
   "id": "95b371ca",
   "metadata": {},
   "outputs": [
    {
     "data": {
      "text/plain": [
       "0        -918.419\n",
       "1        -862.350\n",
       "2        -875.165\n",
       "3        -893.388\n",
       "4        -900.795\n",
       "           ...   \n",
       "22531    1231.125\n",
       "22532    1242.560\n",
       "22533    1319.824\n",
       "22534    1320.420\n",
       "22535    1336.119\n",
       "Name: 불쾌지수, Length: 22536, dtype: float64"
      ]
     },
     "execution_count": 14,
     "metadata": {},
     "output_type": "execute_result"
    }
   ],
   "source": [
    "# 함수로 만들기.\n",
    "# 함수끝에 \\ 를붙이면 아래로 이어서쓸수잇다. \n",
    "weather['불쾌지수'] = 1.8 * weather['기온(℃)'] - 0.55 * \\\n",
    "                (1 - weather['습도(%)']) * (1.8*weather['기온(℃)'] -26 ) + 32\n",
    "weather['불쾌지수']"
   ]
  },
  {
   "cell_type": "markdown",
   "id": "7943168f",
   "metadata": {},
   "source": [
    "> 항상 데이터 처리후에 head,tail, isna등을 찍어서 확인."
   ]
  },
  {
   "cell_type": "code",
   "execution_count": 15,
   "id": "ba37cf02",
   "metadata": {},
   "outputs": [
    {
     "data": {
      "text/html": [
       "<div>\n",
       "<style scoped>\n",
       "    .dataframe tbody tr th:only-of-type {\n",
       "        vertical-align: middle;\n",
       "    }\n",
       "\n",
       "    .dataframe tbody tr th {\n",
       "        vertical-align: top;\n",
       "    }\n",
       "\n",
       "    .dataframe thead th {\n",
       "        text-align: right;\n",
       "    }\n",
       "</style>\n",
       "<table border=\"1\" class=\"dataframe\">\n",
       "  <thead>\n",
       "    <tr style=\"text-align: right;\">\n",
       "      <th></th>\n",
       "      <th>기준_날짜</th>\n",
       "      <th>기준_시</th>\n",
       "      <th>기온(℃)</th>\n",
       "      <th>강수량(mm)</th>\n",
       "      <th>풍속(m/s)</th>\n",
       "      <th>습도(%)</th>\n",
       "      <th>불쾌지수</th>\n",
       "    </tr>\n",
       "  </thead>\n",
       "  <tbody>\n",
       "    <tr>\n",
       "      <th>0</th>\n",
       "      <td>2023-01-01</td>\n",
       "      <td>0</td>\n",
       "      <td>0.9</td>\n",
       "      <td>0.0</td>\n",
       "      <td>1.4</td>\n",
       "      <td>72</td>\n",
       "      <td>-918.419</td>\n",
       "    </tr>\n",
       "    <tr>\n",
       "      <th>1</th>\n",
       "      <td>2023-01-01</td>\n",
       "      <td>1</td>\n",
       "      <td>1.5</td>\n",
       "      <td>0.0</td>\n",
       "      <td>1.9</td>\n",
       "      <td>71</td>\n",
       "      <td>-862.350</td>\n",
       "    </tr>\n",
       "    <tr>\n",
       "      <th>2</th>\n",
       "      <td>2023-01-01</td>\n",
       "      <td>2</td>\n",
       "      <td>1.5</td>\n",
       "      <td>0.0</td>\n",
       "      <td>1.9</td>\n",
       "      <td>72</td>\n",
       "      <td>-875.165</td>\n",
       "    </tr>\n",
       "    <tr>\n",
       "      <th>3</th>\n",
       "      <td>2023-01-01</td>\n",
       "      <td>3</td>\n",
       "      <td>1.6</td>\n",
       "      <td>0.0</td>\n",
       "      <td>1.6</td>\n",
       "      <td>74</td>\n",
       "      <td>-893.388</td>\n",
       "    </tr>\n",
       "    <tr>\n",
       "      <th>4</th>\n",
       "      <td>2023-01-01</td>\n",
       "      <td>4</td>\n",
       "      <td>1.5</td>\n",
       "      <td>0.0</td>\n",
       "      <td>1.4</td>\n",
       "      <td>74</td>\n",
       "      <td>-900.795</td>\n",
       "    </tr>\n",
       "  </tbody>\n",
       "</table>\n",
       "</div>"
      ],
      "text/plain": [
       "        기준_날짜  기준_시  기온(℃)  강수량(mm)  풍속(m/s)  습도(%)     불쾌지수\n",
       "0  2023-01-01     0    0.9      0.0      1.4     72 -918.419\n",
       "1  2023-01-01     1    1.5      0.0      1.9     71 -862.350\n",
       "2  2023-01-01     2    1.5      0.0      1.9     72 -875.165\n",
       "3  2023-01-01     3    1.6      0.0      1.6     74 -893.388\n",
       "4  2023-01-01     4    1.5      0.0      1.4     74 -900.795"
      ]
     },
     "execution_count": 15,
     "metadata": {},
     "output_type": "execute_result"
    }
   ],
   "source": [
    "weather.head()"
   ]
  },
  {
   "cell_type": "code",
   "execution_count": 16,
   "id": "af5f7fee",
   "metadata": {},
   "outputs": [
    {
     "data": {
      "text/plain": [
       "기준_날짜      0\n",
       "기준_시       0\n",
       "기온(℃)      0\n",
       "강수량(mm)    0\n",
       "풍속(m/s)    0\n",
       "습도(%)      0\n",
       "불쾌지수       0\n",
       "dtype: int64"
      ]
     },
     "execution_count": 16,
     "metadata": {},
     "output_type": "execute_result"
    }
   ],
   "source": [
    "weather.isna().sum()"
   ]
  },
  {
   "cell_type": "code",
   "execution_count": 17,
   "id": "087ffb0f",
   "metadata": {},
   "outputs": [
    {
     "data": {
      "text/plain": [
       "(22536,)"
      ]
     },
     "execution_count": 17,
     "metadata": {},
     "output_type": "execute_result"
    }
   ],
   "source": [
    "# 불쾌지수에 남은량을 찍어 갯수 체크\n",
    "weather['불쾌지수'].shape"
   ]
  },
  {
   "cell_type": "markdown",
   "id": "d4be8c5c",
   "metadata": {},
   "source": [
    "> ### snow data 불러오기"
   ]
  },
  {
   "cell_type": "code",
   "execution_count": 18,
   "id": "f1b8b942",
   "metadata": {},
   "outputs": [
    {
     "data": {
      "text/html": [
       "<div>\n",
       "<style scoped>\n",
       "    .dataframe tbody tr th:only-of-type {\n",
       "        vertical-align: middle;\n",
       "    }\n",
       "\n",
       "    .dataframe tbody tr th {\n",
       "        vertical-align: top;\n",
       "    }\n",
       "\n",
       "    .dataframe thead th {\n",
       "        text-align: right;\n",
       "    }\n",
       "</style>\n",
       "<table border=\"1\" class=\"dataframe\">\n",
       "  <thead>\n",
       "    <tr style=\"text-align: right;\">\n",
       "      <th></th>\n",
       "      <th>일시</th>\n",
       "      <th>적설(cm)</th>\n",
       "    </tr>\n",
       "  </thead>\n",
       "  <tbody>\n",
       "    <tr>\n",
       "      <th>0</th>\n",
       "      <td>2023-01-06 21:00:00</td>\n",
       "      <td>1.6</td>\n",
       "    </tr>\n",
       "    <tr>\n",
       "      <th>1</th>\n",
       "      <td>2023-01-06 22:00:00</td>\n",
       "      <td>1.6</td>\n",
       "    </tr>\n",
       "    <tr>\n",
       "      <th>2</th>\n",
       "      <td>2023-01-06 23:00:00</td>\n",
       "      <td>3.3</td>\n",
       "    </tr>\n",
       "    <tr>\n",
       "      <th>3</th>\n",
       "      <td>2023-01-07 00:00:00</td>\n",
       "      <td>3.6</td>\n",
       "    </tr>\n",
       "    <tr>\n",
       "      <th>4</th>\n",
       "      <td>2023-01-07 01:00:00</td>\n",
       "      <td>3.3</td>\n",
       "    </tr>\n",
       "  </tbody>\n",
       "</table>\n",
       "</div>"
      ],
      "text/plain": [
       "                    일시  적설(cm)\n",
       "0  2023-01-06 21:00:00     1.6\n",
       "1  2023-01-06 22:00:00     1.6\n",
       "2  2023-01-06 23:00:00     3.3\n",
       "3  2023-01-07 00:00:00     3.6\n",
       "4  2023-01-07 01:00:00     3.3"
      ]
     },
     "execution_count": 18,
     "metadata": {},
     "output_type": "execute_result"
    }
   ],
   "source": [
    "snow23 = pd.read_csv('../Data/snow23.csv')\n",
    "snow23.head()"
   ]
  },
  {
   "cell_type": "code",
   "execution_count": 19,
   "id": "52ee0fdf",
   "metadata": {},
   "outputs": [
    {
     "data": {
      "text/html": [
       "<div>\n",
       "<style scoped>\n",
       "    .dataframe tbody tr th:only-of-type {\n",
       "        vertical-align: middle;\n",
       "    }\n",
       "\n",
       "    .dataframe tbody tr th {\n",
       "        vertical-align: top;\n",
       "    }\n",
       "\n",
       "    .dataframe thead th {\n",
       "        text-align: right;\n",
       "    }\n",
       "</style>\n",
       "<table border=\"1\" class=\"dataframe\">\n",
       "  <thead>\n",
       "    <tr style=\"text-align: right;\">\n",
       "      <th></th>\n",
       "      <th>일시</th>\n",
       "      <th>적설(cm)</th>\n",
       "    </tr>\n",
       "  </thead>\n",
       "  <tbody>\n",
       "    <tr>\n",
       "      <th>232</th>\n",
       "      <td>2023-12-31 20:00:00</td>\n",
       "      <td>2.4</td>\n",
       "    </tr>\n",
       "    <tr>\n",
       "      <th>233</th>\n",
       "      <td>2023-12-31 21:00:00</td>\n",
       "      <td>2.4</td>\n",
       "    </tr>\n",
       "    <tr>\n",
       "      <th>234</th>\n",
       "      <td>2023-12-31 22:00:00</td>\n",
       "      <td>2.4</td>\n",
       "    </tr>\n",
       "    <tr>\n",
       "      <th>235</th>\n",
       "      <td>2023-12-31 23:00:00</td>\n",
       "      <td>2.4</td>\n",
       "    </tr>\n",
       "    <tr>\n",
       "      <th>236</th>\n",
       "      <td>2024-01-01 00:00:00</td>\n",
       "      <td>2.4</td>\n",
       "    </tr>\n",
       "  </tbody>\n",
       "</table>\n",
       "</div>"
      ],
      "text/plain": [
       "                      일시  적설(cm)\n",
       "232  2023-12-31 20:00:00     2.4\n",
       "233  2023-12-31 21:00:00     2.4\n",
       "234  2023-12-31 22:00:00     2.4\n",
       "235  2023-12-31 23:00:00     2.4\n",
       "236  2024-01-01 00:00:00     2.4"
      ]
     },
     "execution_count": 19,
     "metadata": {},
     "output_type": "execute_result"
    }
   ],
   "source": [
    "snow23.tail()"
   ]
  },
  {
   "cell_type": "code",
   "execution_count": 20,
   "id": "0e682499",
   "metadata": {},
   "outputs": [
    {
     "data": {
      "text/plain": [
       "일시        0\n",
       "적설(cm)    0\n",
       "dtype: int64"
      ]
     },
     "execution_count": 20,
     "metadata": {},
     "output_type": "execute_result"
    }
   ],
   "source": [
    "snow23.isna().sum()"
   ]
  },
  {
   "cell_type": "code",
   "execution_count": 21,
   "id": "5de1464c",
   "metadata": {},
   "outputs": [
    {
     "data": {
      "text/html": [
       "<div>\n",
       "<style scoped>\n",
       "    .dataframe tbody tr th:only-of-type {\n",
       "        vertical-align: middle;\n",
       "    }\n",
       "\n",
       "    .dataframe tbody tr th {\n",
       "        vertical-align: top;\n",
       "    }\n",
       "\n",
       "    .dataframe thead th {\n",
       "        text-align: right;\n",
       "    }\n",
       "</style>\n",
       "<table border=\"1\" class=\"dataframe\">\n",
       "  <thead>\n",
       "    <tr style=\"text-align: right;\">\n",
       "      <th></th>\n",
       "      <th>일시</th>\n",
       "      <th>적설(cm)</th>\n",
       "    </tr>\n",
       "  </thead>\n",
       "  <tbody>\n",
       "    <tr>\n",
       "      <th>0</th>\n",
       "      <td>2024-01-01 01:00:00</td>\n",
       "      <td>2.4</td>\n",
       "    </tr>\n",
       "    <tr>\n",
       "      <th>1</th>\n",
       "      <td>2024-01-01 02:00:00</td>\n",
       "      <td>2.4</td>\n",
       "    </tr>\n",
       "    <tr>\n",
       "      <th>2</th>\n",
       "      <td>2024-01-01 03:00:00</td>\n",
       "      <td>2.4</td>\n",
       "    </tr>\n",
       "    <tr>\n",
       "      <th>3</th>\n",
       "      <td>2024-01-01 04:00:00</td>\n",
       "      <td>2.4</td>\n",
       "    </tr>\n",
       "    <tr>\n",
       "      <th>4</th>\n",
       "      <td>2024-01-01 05:00:00</td>\n",
       "      <td>2.4</td>\n",
       "    </tr>\n",
       "  </tbody>\n",
       "</table>\n",
       "</div>"
      ],
      "text/plain": [
       "                    일시  적설(cm)\n",
       "0  2024-01-01 01:00:00     2.4\n",
       "1  2024-01-01 02:00:00     2.4\n",
       "2  2024-01-01 03:00:00     2.4\n",
       "3  2024-01-01 04:00:00     2.4\n",
       "4  2024-01-01 05:00:00     2.4"
      ]
     },
     "execution_count": 21,
     "metadata": {},
     "output_type": "execute_result"
    }
   ],
   "source": [
    "snow24 = pd.read_csv('../Data/snow24.csv')\n",
    "snow24.head()"
   ]
  },
  {
   "cell_type": "code",
   "execution_count": 22,
   "id": "ae5affab",
   "metadata": {},
   "outputs": [
    {
     "data": {
      "text/html": [
       "<div>\n",
       "<style scoped>\n",
       "    .dataframe tbody tr th:only-of-type {\n",
       "        vertical-align: middle;\n",
       "    }\n",
       "\n",
       "    .dataframe tbody tr th {\n",
       "        vertical-align: top;\n",
       "    }\n",
       "\n",
       "    .dataframe thead th {\n",
       "        text-align: right;\n",
       "    }\n",
       "</style>\n",
       "<table border=\"1\" class=\"dataframe\">\n",
       "  <thead>\n",
       "    <tr style=\"text-align: right;\">\n",
       "      <th></th>\n",
       "      <th>일시</th>\n",
       "      <th>적설(cm)</th>\n",
       "    </tr>\n",
       "  </thead>\n",
       "  <tbody>\n",
       "    <tr>\n",
       "      <th>437</th>\n",
       "      <td>2024-12-23 08:00:00</td>\n",
       "      <td>0.7</td>\n",
       "    </tr>\n",
       "    <tr>\n",
       "      <th>438</th>\n",
       "      <td>2024-12-23 09:00:00</td>\n",
       "      <td>0.7</td>\n",
       "    </tr>\n",
       "    <tr>\n",
       "      <th>439</th>\n",
       "      <td>2024-12-23 10:00:00</td>\n",
       "      <td>0.7</td>\n",
       "    </tr>\n",
       "    <tr>\n",
       "      <th>440</th>\n",
       "      <td>2024-12-23 11:00:00</td>\n",
       "      <td>0.7</td>\n",
       "    </tr>\n",
       "    <tr>\n",
       "      <th>441</th>\n",
       "      <td>2024-12-23 12:00:00</td>\n",
       "      <td>0.5</td>\n",
       "    </tr>\n",
       "  </tbody>\n",
       "</table>\n",
       "</div>"
      ],
      "text/plain": [
       "                      일시  적설(cm)\n",
       "437  2024-12-23 08:00:00     0.7\n",
       "438  2024-12-23 09:00:00     0.7\n",
       "439  2024-12-23 10:00:00     0.7\n",
       "440  2024-12-23 11:00:00     0.7\n",
       "441  2024-12-23 12:00:00     0.5"
      ]
     },
     "execution_count": 22,
     "metadata": {},
     "output_type": "execute_result"
    }
   ],
   "source": [
    "snow24.tail()"
   ]
  },
  {
   "cell_type": "code",
   "execution_count": 23,
   "id": "fc634f4c",
   "metadata": {},
   "outputs": [
    {
     "data": {
      "text/plain": [
       "일시        0\n",
       "적설(cm)    0\n",
       "dtype: int64"
      ]
     },
     "execution_count": 23,
     "metadata": {},
     "output_type": "execute_result"
    }
   ],
   "source": [
    "snow24.isna().sum()"
   ]
  },
  {
   "cell_type": "markdown",
   "id": "e609c96e",
   "metadata": {},
   "source": [
    "> ### 기상청을 보고 불러온자료이기때문에. 내가직접 가져와서 정확히 들어있는걸 한번더체크.\n",
    "출처 : 기상청자료"
   ]
  },
  {
   "cell_type": "markdown",
   "id": "29f5db2b",
   "metadata": {},
   "source": [
    "> #### 23과 24를 통합.하고 한개로저장"
   ]
  },
  {
   "cell_type": "code",
   "execution_count": 24,
   "id": "dedf7c92",
   "metadata": {},
   "outputs": [
    {
     "name": "stdout",
     "output_type": "stream",
     "text": [
      "object\n",
      "object\n"
     ]
    }
   ],
   "source": [
    "print(snow23['일시'].dtype)\n",
    "print(snow24['일시'].dtype)"
   ]
  },
  {
   "cell_type": "markdown",
   "id": "b436475e",
   "metadata": {},
   "source": [
    "##### 같은타입이라 merge와 Concat 사용할수잇지만 순서가 바뀔위험성을가진다.\n",
    "##### 2023-01-01 다음으로 2023-01-02가와야하지만 2024-01-01 가 올수잇다.\n",
    "##### 그래서보통 정렬을할떄 일시나 날짜로 정렬할경우 datetime으로 바꾼뒤\n",
    "##### Sortvalu를 사용해 보기편하게 바꾼다."
   ]
  },
  {
   "cell_type": "code",
   "execution_count": 25,
   "id": "0f4ff02d",
   "metadata": {},
   "outputs": [],
   "source": [
    "# snow.일시에 괄호를 쓰는것 안쓰는것의 차이는없다. 잘돌아가나확인해보니 잘들어간다.\n",
    "snow23['일시'] = pd.to_datetime(snow23.일시)\n",
    "snow24['일시'] = pd.to_datetime(snow24['일시'])"
   ]
  },
  {
   "cell_type": "code",
   "execution_count": 26,
   "id": "d8dca3bd",
   "metadata": {},
   "outputs": [
    {
     "name": "stdout",
     "output_type": "stream",
     "text": [
      "datetime64[ns]\n",
      "datetime64[ns]\n"
     ]
    }
   ],
   "source": [
    "print(snow23['일시'].dtype)\n",
    "print(snow24['일시'].dtype)"
   ]
  },
  {
   "cell_type": "code",
   "execution_count": 27,
   "id": "b6656368",
   "metadata": {},
   "outputs": [
    {
     "data": {
      "text/plain": [
       "0     2023-01-06 21:00:00\n",
       "1     2023-01-06 22:00:00\n",
       "2     2023-01-06 23:00:00\n",
       "3     2023-01-07 00:00:00\n",
       "4     2023-01-07 01:00:00\n",
       "              ...        \n",
       "232   2023-12-31 20:00:00\n",
       "233   2023-12-31 21:00:00\n",
       "234   2023-12-31 22:00:00\n",
       "235   2023-12-31 23:00:00\n",
       "236   2024-01-01 00:00:00\n",
       "Name: 일시, Length: 237, dtype: datetime64[ns]"
      ]
     },
     "execution_count": 27,
     "metadata": {},
     "output_type": "execute_result"
    }
   ],
   "source": [
    "snow23['일시'].sort_values()\n",
    "snow23['일시'].sort_values()"
   ]
  },
  {
   "cell_type": "markdown",
   "id": "4bdf5208",
   "metadata": {},
   "source": [
    "> ##### 마지막줄에 () 를쓰면 함수를실행한다. 안쓸경우 아무일도안일어나고 \n",
    "> ##### 이렇게되는구나. 써야겟다. 혹은 안써도되겟네 등을 보는용도로 사용한다"
   ]
  },
  {
   "cell_type": "code",
   "execution_count": 28,
   "id": "9c9f6327",
   "metadata": {},
   "outputs": [
    {
     "data": {
      "text/html": [
       "<div>\n",
       "<style scoped>\n",
       "    .dataframe tbody tr th:only-of-type {\n",
       "        vertical-align: middle;\n",
       "    }\n",
       "\n",
       "    .dataframe tbody tr th {\n",
       "        vertical-align: top;\n",
       "    }\n",
       "\n",
       "    .dataframe thead th {\n",
       "        text-align: right;\n",
       "    }\n",
       "</style>\n",
       "<table border=\"1\" class=\"dataframe\">\n",
       "  <thead>\n",
       "    <tr style=\"text-align: right;\">\n",
       "      <th></th>\n",
       "      <th>일시</th>\n",
       "      <th>적설(cm)</th>\n",
       "    </tr>\n",
       "  </thead>\n",
       "  <tbody>\n",
       "    <tr>\n",
       "      <th>0</th>\n",
       "      <td>2023-01-06 21:00:00</td>\n",
       "      <td>1.6</td>\n",
       "    </tr>\n",
       "    <tr>\n",
       "      <th>1</th>\n",
       "      <td>2023-01-06 22:00:00</td>\n",
       "      <td>1.6</td>\n",
       "    </tr>\n",
       "    <tr>\n",
       "      <th>2</th>\n",
       "      <td>2023-01-06 23:00:00</td>\n",
       "      <td>3.3</td>\n",
       "    </tr>\n",
       "    <tr>\n",
       "      <th>3</th>\n",
       "      <td>2023-01-07 00:00:00</td>\n",
       "      <td>3.6</td>\n",
       "    </tr>\n",
       "    <tr>\n",
       "      <th>4</th>\n",
       "      <td>2023-01-07 01:00:00</td>\n",
       "      <td>3.3</td>\n",
       "    </tr>\n",
       "  </tbody>\n",
       "</table>\n",
       "</div>"
      ],
      "text/plain": [
       "                   일시  적설(cm)\n",
       "0 2023-01-06 21:00:00     1.6\n",
       "1 2023-01-06 22:00:00     1.6\n",
       "2 2023-01-06 23:00:00     3.3\n",
       "3 2023-01-07 00:00:00     3.6\n",
       "4 2023-01-07 01:00:00     3.3"
      ]
     },
     "execution_count": 28,
     "metadata": {},
     "output_type": "execute_result"
    }
   ],
   "source": [
    "snow = pd.concat(\n",
    "        [\n",
    "            snow23,\n",
    "            snow24\n",
    "        ],\n",
    "        axis=0,\n",
    "        ignore_index=True\n",
    ")\n",
    "snow.head()"
   ]
  },
  {
   "cell_type": "code",
   "execution_count": 29,
   "id": "b79ba0ce",
   "metadata": {},
   "outputs": [
    {
     "data": {
      "text/plain": [
       "(679, 2)"
      ]
     },
     "execution_count": 29,
     "metadata": {},
     "output_type": "execute_result"
    }
   ],
   "source": [
    "snow.shape"
   ]
  },
  {
   "cell_type": "code",
   "execution_count": 30,
   "id": "af85da04",
   "metadata": {},
   "outputs": [
    {
     "data": {
      "text/plain": [
       "(22536, 7)"
      ]
     },
     "execution_count": 30,
     "metadata": {},
     "output_type": "execute_result"
    }
   ],
   "source": [
    "weather.shape"
   ]
  },
  {
   "cell_type": "markdown",
   "id": "cc4e10e3",
   "metadata": {},
   "source": [
    "> ### weather과snow를합친다."
   ]
  },
  {
   "cell_type": "code",
   "execution_count": 31,
   "id": "22f5f3ee",
   "metadata": {},
   "outputs": [
    {
     "name": "stdout",
     "output_type": "stream",
     "text": [
      "object\n",
      "datetime64[ns]\n"
     ]
    }
   ],
   "source": [
    "print(weather['기준_날짜'].dtypes)\n",
    "print(snow['일시'].dtypes)"
   ]
  },
  {
   "cell_type": "code",
   "execution_count": 32,
   "id": "2a896134",
   "metadata": {},
   "outputs": [
    {
     "data": {
      "text/plain": [
       "기준_날짜      datetime64[ns]\n",
       "기준_시                int64\n",
       "기온(℃)             float64\n",
       "강수량(mm)           float64\n",
       "풍속(m/s)           float64\n",
       "습도(%)               int64\n",
       "불쾌지수              float64\n",
       "dtype: object"
      ]
     },
     "execution_count": 32,
     "metadata": {},
     "output_type": "execute_result"
    }
   ],
   "source": [
    "weather['기준_날짜'] = pd.to_datetime(weather.기준_날짜)\n",
    "weather.dtypes"
   ]
  },
  {
   "cell_type": "markdown",
   "id": "087b7f15",
   "metadata": {},
   "source": [
    "> 기준_날짜와 일시를 옆으로둘것이기떄문에 merge"
   ]
  },
  {
   "cell_type": "code",
   "execution_count": 33,
   "id": "ce283c81",
   "metadata": {},
   "outputs": [
    {
     "data": {
      "text/html": [
       "<div>\n",
       "<style scoped>\n",
       "    .dataframe tbody tr th:only-of-type {\n",
       "        vertical-align: middle;\n",
       "    }\n",
       "\n",
       "    .dataframe tbody tr th {\n",
       "        vertical-align: top;\n",
       "    }\n",
       "\n",
       "    .dataframe thead th {\n",
       "        text-align: right;\n",
       "    }\n",
       "</style>\n",
       "<table border=\"1\" class=\"dataframe\">\n",
       "  <thead>\n",
       "    <tr style=\"text-align: right;\">\n",
       "      <th></th>\n",
       "      <th>일시</th>\n",
       "      <th>적설(cm)</th>\n",
       "    </tr>\n",
       "  </thead>\n",
       "  <tbody>\n",
       "    <tr>\n",
       "      <th>0</th>\n",
       "      <td>2023-01-06 21:00:00</td>\n",
       "      <td>1.6</td>\n",
       "    </tr>\n",
       "    <tr>\n",
       "      <th>1</th>\n",
       "      <td>2023-01-06 22:00:00</td>\n",
       "      <td>1.6</td>\n",
       "    </tr>\n",
       "    <tr>\n",
       "      <th>2</th>\n",
       "      <td>2023-01-06 23:00:00</td>\n",
       "      <td>3.3</td>\n",
       "    </tr>\n",
       "    <tr>\n",
       "      <th>3</th>\n",
       "      <td>2023-01-07 00:00:00</td>\n",
       "      <td>3.6</td>\n",
       "    </tr>\n",
       "    <tr>\n",
       "      <th>4</th>\n",
       "      <td>2023-01-07 01:00:00</td>\n",
       "      <td>3.3</td>\n",
       "    </tr>\n",
       "  </tbody>\n",
       "</table>\n",
       "</div>"
      ],
      "text/plain": [
       "                   일시  적설(cm)\n",
       "0 2023-01-06 21:00:00     1.6\n",
       "1 2023-01-06 22:00:00     1.6\n",
       "2 2023-01-06 23:00:00     3.3\n",
       "3 2023-01-07 00:00:00     3.6\n",
       "4 2023-01-07 01:00:00     3.3"
      ]
     },
     "execution_count": 33,
     "metadata": {},
     "output_type": "execute_result"
    }
   ],
   "source": [
    "snow.head()"
   ]
  },
  {
   "cell_type": "code",
   "execution_count": 34,
   "id": "9e3c7076",
   "metadata": {},
   "outputs": [
    {
     "data": {
      "text/html": [
       "<div>\n",
       "<style scoped>\n",
       "    .dataframe tbody tr th:only-of-type {\n",
       "        vertical-align: middle;\n",
       "    }\n",
       "\n",
       "    .dataframe tbody tr th {\n",
       "        vertical-align: top;\n",
       "    }\n",
       "\n",
       "    .dataframe thead th {\n",
       "        text-align: right;\n",
       "    }\n",
       "</style>\n",
       "<table border=\"1\" class=\"dataframe\">\n",
       "  <thead>\n",
       "    <tr style=\"text-align: right;\">\n",
       "      <th></th>\n",
       "      <th>기준_날짜</th>\n",
       "      <th>기준_시</th>\n",
       "      <th>기온(℃)</th>\n",
       "      <th>강수량(mm)</th>\n",
       "      <th>풍속(m/s)</th>\n",
       "      <th>습도(%)</th>\n",
       "      <th>불쾌지수</th>\n",
       "    </tr>\n",
       "  </thead>\n",
       "  <tbody>\n",
       "    <tr>\n",
       "      <th>0</th>\n",
       "      <td>2023-01-01</td>\n",
       "      <td>0</td>\n",
       "      <td>0.9</td>\n",
       "      <td>0.0</td>\n",
       "      <td>1.4</td>\n",
       "      <td>72</td>\n",
       "      <td>-918.419</td>\n",
       "    </tr>\n",
       "    <tr>\n",
       "      <th>1</th>\n",
       "      <td>2023-01-01</td>\n",
       "      <td>1</td>\n",
       "      <td>1.5</td>\n",
       "      <td>0.0</td>\n",
       "      <td>1.9</td>\n",
       "      <td>71</td>\n",
       "      <td>-862.350</td>\n",
       "    </tr>\n",
       "    <tr>\n",
       "      <th>2</th>\n",
       "      <td>2023-01-01</td>\n",
       "      <td>2</td>\n",
       "      <td>1.5</td>\n",
       "      <td>0.0</td>\n",
       "      <td>1.9</td>\n",
       "      <td>72</td>\n",
       "      <td>-875.165</td>\n",
       "    </tr>\n",
       "    <tr>\n",
       "      <th>3</th>\n",
       "      <td>2023-01-01</td>\n",
       "      <td>3</td>\n",
       "      <td>1.6</td>\n",
       "      <td>0.0</td>\n",
       "      <td>1.6</td>\n",
       "      <td>74</td>\n",
       "      <td>-893.388</td>\n",
       "    </tr>\n",
       "    <tr>\n",
       "      <th>4</th>\n",
       "      <td>2023-01-01</td>\n",
       "      <td>4</td>\n",
       "      <td>1.5</td>\n",
       "      <td>0.0</td>\n",
       "      <td>1.4</td>\n",
       "      <td>74</td>\n",
       "      <td>-900.795</td>\n",
       "    </tr>\n",
       "  </tbody>\n",
       "</table>\n",
       "</div>"
      ],
      "text/plain": [
       "       기준_날짜  기준_시  기온(℃)  강수량(mm)  풍속(m/s)  습도(%)     불쾌지수\n",
       "0 2023-01-01     0    0.9      0.0      1.4     72 -918.419\n",
       "1 2023-01-01     1    1.5      0.0      1.9     71 -862.350\n",
       "2 2023-01-01     2    1.5      0.0      1.9     72 -875.165\n",
       "3 2023-01-01     3    1.6      0.0      1.6     74 -893.388\n",
       "4 2023-01-01     4    1.5      0.0      1.4     74 -900.795"
      ]
     },
     "execution_count": 34,
     "metadata": {},
     "output_type": "execute_result"
    }
   ],
   "source": [
    "weather.head()"
   ]
  },
  {
   "cell_type": "markdown",
   "id": "1eaf0dbe",
   "metadata": {},
   "source": [
    "---\n"
   ]
  },
  {
   "cell_type": "markdown",
   "id": "540f1278",
   "metadata": {},
   "source": [
    "# 눈데이터와 weather 를 합친건위험 "
   ]
  },
  {
   "cell_type": "code",
   "execution_count": 35,
   "id": "7b80338a",
   "metadata": {},
   "outputs": [
    {
     "data": {
      "text/html": [
       "<div>\n",
       "<style scoped>\n",
       "    .dataframe tbody tr th:only-of-type {\n",
       "        vertical-align: middle;\n",
       "    }\n",
       "\n",
       "    .dataframe tbody tr th {\n",
       "        vertical-align: top;\n",
       "    }\n",
       "\n",
       "    .dataframe thead th {\n",
       "        text-align: right;\n",
       "    }\n",
       "</style>\n",
       "<table border=\"1\" class=\"dataframe\">\n",
       "  <thead>\n",
       "    <tr style=\"text-align: right;\">\n",
       "      <th></th>\n",
       "      <th>기준_날짜</th>\n",
       "      <th>기준_시</th>\n",
       "      <th>기온(℃)</th>\n",
       "      <th>강수량(mm)</th>\n",
       "      <th>풍속(m/s)</th>\n",
       "      <th>습도(%)</th>\n",
       "      <th>불쾌지수</th>\n",
       "      <th>일시</th>\n",
       "      <th>적설(cm)</th>\n",
       "    </tr>\n",
       "  </thead>\n",
       "  <tbody>\n",
       "    <tr>\n",
       "      <th>0</th>\n",
       "      <td>2023-01-07</td>\n",
       "      <td>0</td>\n",
       "      <td>1.0</td>\n",
       "      <td>2.9</td>\n",
       "      <td>1.3</td>\n",
       "      <td>95</td>\n",
       "      <td>-1217.340</td>\n",
       "      <td>2023-01-07</td>\n",
       "      <td>3.6</td>\n",
       "    </tr>\n",
       "    <tr>\n",
       "      <th>1</th>\n",
       "      <td>2023-01-07</td>\n",
       "      <td>1</td>\n",
       "      <td>1.2</td>\n",
       "      <td>0.0</td>\n",
       "      <td>1.7</td>\n",
       "      <td>94</td>\n",
       "      <td>-1185.256</td>\n",
       "      <td>2023-01-07</td>\n",
       "      <td>3.6</td>\n",
       "    </tr>\n",
       "    <tr>\n",
       "      <th>2</th>\n",
       "      <td>2023-01-07</td>\n",
       "      <td>2</td>\n",
       "      <td>1.2</td>\n",
       "      <td>0.0</td>\n",
       "      <td>0.7</td>\n",
       "      <td>95</td>\n",
       "      <td>-1198.368</td>\n",
       "      <td>2023-01-07</td>\n",
       "      <td>3.6</td>\n",
       "    </tr>\n",
       "    <tr>\n",
       "      <th>3</th>\n",
       "      <td>2023-01-07</td>\n",
       "      <td>3</td>\n",
       "      <td>1.6</td>\n",
       "      <td>0.0</td>\n",
       "      <td>1.0</td>\n",
       "      <td>94</td>\n",
       "      <td>-1147.708</td>\n",
       "      <td>2023-01-07</td>\n",
       "      <td>3.6</td>\n",
       "    </tr>\n",
       "    <tr>\n",
       "      <th>4</th>\n",
       "      <td>2023-01-07</td>\n",
       "      <td>4</td>\n",
       "      <td>2.2</td>\n",
       "      <td>0.0</td>\n",
       "      <td>2.0</td>\n",
       "      <td>96</td>\n",
       "      <td>-1115.630</td>\n",
       "      <td>2023-01-07</td>\n",
       "      <td>3.6</td>\n",
       "    </tr>\n",
       "  </tbody>\n",
       "</table>\n",
       "</div>"
      ],
      "text/plain": [
       "       기준_날짜  기준_시  기온(℃)  강수량(mm)  풍속(m/s)  습도(%)      불쾌지수         일시  \\\n",
       "0 2023-01-07     0    1.0      2.9      1.3     95 -1217.340 2023-01-07   \n",
       "1 2023-01-07     1    1.2      0.0      1.7     94 -1185.256 2023-01-07   \n",
       "2 2023-01-07     2    1.2      0.0      0.7     95 -1198.368 2023-01-07   \n",
       "3 2023-01-07     3    1.6      0.0      1.0     94 -1147.708 2023-01-07   \n",
       "4 2023-01-07     4    2.2      0.0      2.0     96 -1115.630 2023-01-07   \n",
       "\n",
       "   적설(cm)  \n",
       "0     3.6  \n",
       "1     3.6  \n",
       "2     3.6  \n",
       "3     3.6  \n",
       "4     3.6  "
      ]
     },
     "execution_count": 35,
     "metadata": {},
     "output_type": "execute_result"
    }
   ],
   "source": [
    "weathers = pd.merge(\n",
    "    weather,\n",
    "    snow,\n",
    "    left_on='기준_날짜',\n",
    "    right_on='일시',\n",
    "    \n",
    "\n",
    ")\n",
    "weathers.head()"
   ]
  },
  {
   "cell_type": "code",
   "execution_count": 36,
   "id": "f79f29a8",
   "metadata": {},
   "outputs": [
    {
     "data": {
      "text/html": [
       "<div>\n",
       "<style scoped>\n",
       "    .dataframe tbody tr th:only-of-type {\n",
       "        vertical-align: middle;\n",
       "    }\n",
       "\n",
       "    .dataframe tbody tr th {\n",
       "        vertical-align: top;\n",
       "    }\n",
       "\n",
       "    .dataframe thead th {\n",
       "        text-align: right;\n",
       "    }\n",
       "</style>\n",
       "<table border=\"1\" class=\"dataframe\">\n",
       "  <thead>\n",
       "    <tr style=\"text-align: right;\">\n",
       "      <th></th>\n",
       "      <th>기준_날짜</th>\n",
       "      <th>기준_시</th>\n",
       "      <th>기온(℃)</th>\n",
       "      <th>강수량(mm)</th>\n",
       "      <th>풍속(m/s)</th>\n",
       "      <th>습도(%)</th>\n",
       "      <th>불쾌지수</th>\n",
       "      <th>적설(cm)</th>\n",
       "    </tr>\n",
       "  </thead>\n",
       "  <tbody>\n",
       "    <tr>\n",
       "      <th>0</th>\n",
       "      <td>2023-01-07</td>\n",
       "      <td>0</td>\n",
       "      <td>1.0</td>\n",
       "      <td>2.9</td>\n",
       "      <td>1.3</td>\n",
       "      <td>95</td>\n",
       "      <td>-1217.340</td>\n",
       "      <td>3.6</td>\n",
       "    </tr>\n",
       "    <tr>\n",
       "      <th>1</th>\n",
       "      <td>2023-01-07</td>\n",
       "      <td>1</td>\n",
       "      <td>1.2</td>\n",
       "      <td>0.0</td>\n",
       "      <td>1.7</td>\n",
       "      <td>94</td>\n",
       "      <td>-1185.256</td>\n",
       "      <td>3.6</td>\n",
       "    </tr>\n",
       "    <tr>\n",
       "      <th>2</th>\n",
       "      <td>2023-01-07</td>\n",
       "      <td>2</td>\n",
       "      <td>1.2</td>\n",
       "      <td>0.0</td>\n",
       "      <td>0.7</td>\n",
       "      <td>95</td>\n",
       "      <td>-1198.368</td>\n",
       "      <td>3.6</td>\n",
       "    </tr>\n",
       "    <tr>\n",
       "      <th>3</th>\n",
       "      <td>2023-01-07</td>\n",
       "      <td>3</td>\n",
       "      <td>1.6</td>\n",
       "      <td>0.0</td>\n",
       "      <td>1.0</td>\n",
       "      <td>94</td>\n",
       "      <td>-1147.708</td>\n",
       "      <td>3.6</td>\n",
       "    </tr>\n",
       "    <tr>\n",
       "      <th>4</th>\n",
       "      <td>2023-01-07</td>\n",
       "      <td>4</td>\n",
       "      <td>2.2</td>\n",
       "      <td>0.0</td>\n",
       "      <td>2.0</td>\n",
       "      <td>96</td>\n",
       "      <td>-1115.630</td>\n",
       "      <td>3.6</td>\n",
       "    </tr>\n",
       "  </tbody>\n",
       "</table>\n",
       "</div>"
      ],
      "text/plain": [
       "       기준_날짜  기준_시  기온(℃)  강수량(mm)  풍속(m/s)  습도(%)      불쾌지수  적설(cm)\n",
       "0 2023-01-07     0    1.0      2.9      1.3     95 -1217.340     3.6\n",
       "1 2023-01-07     1    1.2      0.0      1.7     94 -1185.256     3.6\n",
       "2 2023-01-07     2    1.2      0.0      0.7     95 -1198.368     3.6\n",
       "3 2023-01-07     3    1.6      0.0      1.0     94 -1147.708     3.6\n",
       "4 2023-01-07     4    2.2      0.0      2.0     96 -1115.630     3.6"
      ]
     },
     "execution_count": 36,
     "metadata": {},
     "output_type": "execute_result"
    }
   ],
   "source": [
    "weathers.drop(['일시'],axis=True,inplace=True)\n",
    "weathers.head()"
   ]
  },
  {
   "cell_type": "code",
   "execution_count": 37,
   "id": "d88b0a05",
   "metadata": {},
   "outputs": [
    {
     "data": {
      "text/html": [
       "<div>\n",
       "<style scoped>\n",
       "    .dataframe tbody tr th:only-of-type {\n",
       "        vertical-align: middle;\n",
       "    }\n",
       "\n",
       "    .dataframe tbody tr th {\n",
       "        vertical-align: top;\n",
       "    }\n",
       "\n",
       "    .dataframe thead th {\n",
       "        text-align: right;\n",
       "    }\n",
       "</style>\n",
       "<table border=\"1\" class=\"dataframe\">\n",
       "  <thead>\n",
       "    <tr style=\"text-align: right;\">\n",
       "      <th></th>\n",
       "      <th>기준_날짜</th>\n",
       "      <th>기준_시</th>\n",
       "      <th>기온(℃)</th>\n",
       "      <th>강수량(mm)</th>\n",
       "      <th>풍속(m/s)</th>\n",
       "      <th>습도(%)</th>\n",
       "      <th>불쾌지수</th>\n",
       "      <th>적설(cm)</th>\n",
       "    </tr>\n",
       "  </thead>\n",
       "  <tbody>\n",
       "    <tr>\n",
       "      <th>643</th>\n",
       "      <td>2024-12-23</td>\n",
       "      <td>19</td>\n",
       "      <td>2.9</td>\n",
       "      <td>0.0</td>\n",
       "      <td>3.2</td>\n",
       "      <td>57</td>\n",
       "      <td>-602.804</td>\n",
       "      <td>0.7</td>\n",
       "    </tr>\n",
       "    <tr>\n",
       "      <th>644</th>\n",
       "      <td>2024-12-23</td>\n",
       "      <td>20</td>\n",
       "      <td>2.0</td>\n",
       "      <td>0.0</td>\n",
       "      <td>2.6</td>\n",
       "      <td>58</td>\n",
       "      <td>-666.640</td>\n",
       "      <td>0.7</td>\n",
       "    </tr>\n",
       "    <tr>\n",
       "      <th>645</th>\n",
       "      <td>2024-12-23</td>\n",
       "      <td>21</td>\n",
       "      <td>1.5</td>\n",
       "      <td>0.0</td>\n",
       "      <td>2.8</td>\n",
       "      <td>53</td>\n",
       "      <td>-631.680</td>\n",
       "      <td>0.7</td>\n",
       "    </tr>\n",
       "    <tr>\n",
       "      <th>646</th>\n",
       "      <td>2024-12-23</td>\n",
       "      <td>22</td>\n",
       "      <td>0.7</td>\n",
       "      <td>0.0</td>\n",
       "      <td>3.0</td>\n",
       "      <td>47</td>\n",
       "      <td>-592.662</td>\n",
       "      <td>0.7</td>\n",
       "    </tr>\n",
       "    <tr>\n",
       "      <th>647</th>\n",
       "      <td>2024-12-23</td>\n",
       "      <td>23</td>\n",
       "      <td>-0.1</td>\n",
       "      <td>0.0</td>\n",
       "      <td>3.2</td>\n",
       "      <td>48</td>\n",
       "      <td>-644.933</td>\n",
       "      <td>0.7</td>\n",
       "    </tr>\n",
       "  </tbody>\n",
       "</table>\n",
       "</div>"
      ],
      "text/plain": [
       "         기준_날짜  기준_시  기온(℃)  강수량(mm)  풍속(m/s)  습도(%)     불쾌지수  적설(cm)\n",
       "643 2024-12-23    19    2.9      0.0      3.2     57 -602.804     0.7\n",
       "644 2024-12-23    20    2.0      0.0      2.6     58 -666.640     0.7\n",
       "645 2024-12-23    21    1.5      0.0      2.8     53 -631.680     0.7\n",
       "646 2024-12-23    22    0.7      0.0      3.0     47 -592.662     0.7\n",
       "647 2024-12-23    23   -0.1      0.0      3.2     48 -644.933     0.7"
      ]
     },
     "execution_count": 37,
     "metadata": {},
     "output_type": "execute_result"
    }
   ],
   "source": [
    "weathers.tail()"
   ]
  },
  {
   "cell_type": "code",
   "execution_count": 38,
   "id": "a4a9ab24",
   "metadata": {},
   "outputs": [
    {
     "data": {
      "text/plain": [
       "기준_날짜      0\n",
       "기준_시       0\n",
       "기온(℃)      0\n",
       "강수량(mm)    0\n",
       "풍속(m/s)    0\n",
       "습도(%)      0\n",
       "불쾌지수       0\n",
       "적설(cm)     0\n",
       "dtype: int64"
      ]
     },
     "execution_count": 38,
     "metadata": {},
     "output_type": "execute_result"
    }
   ],
   "source": [
    "weathers.isna().sum()"
   ]
  },
  {
   "cell_type": "code",
   "execution_count": 39,
   "id": "6a410e99",
   "metadata": {},
   "outputs": [],
   "source": [
    "weathers.to_csv('../Data/weathers.csv',encoding='utf-8-sig',index=False)"
   ]
  },
  {
   "cell_type": "markdown",
   "id": "798ef3c3",
   "metadata": {},
   "source": [
    "> weathers로 merge후에 데이터를 합치고 저장한다. 현재추가된건 불쾌지수,적설량"
   ]
  },
  {
   "cell_type": "code",
   "execution_count": null,
   "id": "7b7efe19",
   "metadata": {},
   "outputs": [
    {
     "data": {
      "text/html": [
       "<div>\n",
       "<style scoped>\n",
       "    .dataframe tbody tr th:only-of-type {\n",
       "        vertical-align: middle;\n",
       "    }\n",
       "\n",
       "    .dataframe tbody tr th {\n",
       "        vertical-align: top;\n",
       "    }\n",
       "\n",
       "    .dataframe thead th {\n",
       "        text-align: right;\n",
       "    }\n",
       "</style>\n",
       "<table border=\"1\" class=\"dataframe\">\n",
       "  <thead>\n",
       "    <tr style=\"text-align: right;\">\n",
       "      <th></th>\n",
       "      <th>기준_날짜</th>\n",
       "      <th>기준_시</th>\n",
       "      <th>기온(℃)</th>\n",
       "      <th>강수량(mm)</th>\n",
       "      <th>풍속(m/s)</th>\n",
       "      <th>습도(%)</th>\n",
       "      <th>불쾌지수</th>\n",
       "    </tr>\n",
       "  </thead>\n",
       "  <tbody>\n",
       "    <tr>\n",
       "      <th>0</th>\n",
       "      <td>2023-01-01</td>\n",
       "      <td>0</td>\n",
       "      <td>0.9</td>\n",
       "      <td>0.0</td>\n",
       "      <td>1.4</td>\n",
       "      <td>72</td>\n",
       "      <td>-918.419</td>\n",
       "    </tr>\n",
       "    <tr>\n",
       "      <th>1</th>\n",
       "      <td>2023-01-01</td>\n",
       "      <td>1</td>\n",
       "      <td>1.5</td>\n",
       "      <td>0.0</td>\n",
       "      <td>1.9</td>\n",
       "      <td>71</td>\n",
       "      <td>-862.350</td>\n",
       "    </tr>\n",
       "    <tr>\n",
       "      <th>2</th>\n",
       "      <td>2023-01-01</td>\n",
       "      <td>2</td>\n",
       "      <td>1.5</td>\n",
       "      <td>0.0</td>\n",
       "      <td>1.9</td>\n",
       "      <td>72</td>\n",
       "      <td>-875.165</td>\n",
       "    </tr>\n",
       "    <tr>\n",
       "      <th>3</th>\n",
       "      <td>2023-01-01</td>\n",
       "      <td>3</td>\n",
       "      <td>1.6</td>\n",
       "      <td>0.0</td>\n",
       "      <td>1.6</td>\n",
       "      <td>74</td>\n",
       "      <td>-893.388</td>\n",
       "    </tr>\n",
       "    <tr>\n",
       "      <th>4</th>\n",
       "      <td>2023-01-01</td>\n",
       "      <td>4</td>\n",
       "      <td>1.5</td>\n",
       "      <td>0.0</td>\n",
       "      <td>1.4</td>\n",
       "      <td>74</td>\n",
       "      <td>-900.795</td>\n",
       "    </tr>\n",
       "  </tbody>\n",
       "</table>\n",
       "</div>"
      ],
      "text/plain": [
       "       기준_날짜  기준_시  기온(℃)  강수량(mm)  풍속(m/s)  습도(%)     불쾌지수\n",
       "0 2023-01-01     0    0.9      0.0      1.4     72 -918.419\n",
       "1 2023-01-01     1    1.5      0.0      1.9     71 -862.350\n",
       "2 2023-01-01     2    1.5      0.0      1.9     72 -875.165\n",
       "3 2023-01-01     3    1.6      0.0      1.6     74 -893.388\n",
       "4 2023-01-01     4    1.5      0.0      1.4     74 -900.795"
      ]
     },
     "execution_count": 43,
     "metadata": {},
     "output_type": "execute_result"
    }
   ],
   "source": [
    "weather.head()"
   ]
  },
  {
   "cell_type": "markdown",
   "id": "749f4e51",
   "metadata": {},
   "source": [
    "---\n",
    "정리과정중 눈데이터와 병합시 누락되는걸발견햇다. 당장 원인을 찾기힘들어 불쾌지수가있는 whather데이터를 가지고가겟다."
   ]
  },
  {
   "cell_type": "code",
   "execution_count": 44,
   "id": "6249785e",
   "metadata": {},
   "outputs": [],
   "source": [
    "weather.to_csv('../Data/weathera.csv',index=False,encoding='utf-8')"
   ]
  }
 ],
 "metadata": {
  "kernelspec": {
   "display_name": "base",
   "language": "python",
   "name": "python3"
  },
  "language_info": {
   "codemirror_mode": {
    "name": "ipython",
    "version": 3
   },
   "file_extension": ".py",
   "mimetype": "text/x-python",
   "name": "python",
   "nbconvert_exporter": "python",
   "pygments_lexer": "ipython3",
   "version": "3.12.7"
  }
 },
 "nbformat": 4,
 "nbformat_minor": 5
}
